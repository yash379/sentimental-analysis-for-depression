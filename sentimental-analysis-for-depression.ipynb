{
 "cells": [
  {
   "cell_type": "code",
   "execution_count": 1,
   "metadata": {
    "execution": {
     "iopub.execute_input": "2021-03-05T00:37:57.290100Z",
     "iopub.status.busy": "2021-03-05T00:37:57.289328Z",
     "iopub.status.idle": "2021-03-05T00:38:04.886025Z",
     "shell.execute_reply": "2021-03-05T00:38:04.884660Z"
    },
    "id": "lFEesSquu_0I",
    "papermill": {
     "duration": 7.642795,
     "end_time": "2021-03-05T00:38:04.886313",
     "exception": false,
     "start_time": "2021-03-05T00:37:57.243518",
     "status": "completed"
    },
    "tags": []
   },
   "outputs": [],
   "source": [
    "from sklearn.ensemble import RandomForestClassifier\n",
    "import pandas as pd\n",
    "import re\n",
    "from sklearn.model_selection import train_test_split\n",
    "from sklearn.utils import shuffle\n",
    "from sklearn.feature_extraction.text import TfidfVectorizer\n",
    "from sklearn import naive_bayes\n",
    "from sklearn.metrics import roc_auc_score\n",
    "from sklearn.metrics import accuracy_score\n",
    "from sklearn.pipeline import Pipeline\n",
    "from sklearn.model_selection import validation_curve\n",
    "from sklearn import metrics\n",
    "import matplotlib.pyplot as plt\n",
    "import numpy as np\n",
    "from sklearn.model_selection import GridSearchCV \n",
    "from sklearn.model_selection import RandomizedSearchCV\n",
    "import pickle\n",
    "import bz2\n",
    "from sklearn.svm import LinearSVC\n",
    "from sklearn.linear_model import LogisticRegression\n",
    "from sklearn.naive_bayes import GaussianNB\n",
    "from sklearn.naive_bayes import BernoulliNB\n",
    "from sklearn.naive_bayes import MultinomialNB\n",
    "from sklearn.ensemble import GradientBoostingClassifier\n",
    "from sklearn.tree import DecisionTreeClassifier\n",
    "from sklearn.neighbors import KNeighborsClassifier\n",
    "from xgboost import XGBClassifier\n",
    "from sklearn.linear_model import SGDClassifier\n",
    "from sklearn.ensemble import RandomForestClassifier\n",
    "from sklearn.preprocessing import LabelEncoder\n",
    "from sklearn.gaussian_process import GaussianProcessClassifier\n",
    "from keras.models import Model\n",
    "from wordcloud import WordCloud"
   ]
  },
  {
   "cell_type": "markdown",
   "metadata": {
    "id": "lajOIQnOhjoB",
    "papermill": {
     "duration": 0.040195,
     "end_time": "2021-03-05T00:38:04.966348",
     "exception": false,
     "start_time": "2021-03-05T00:38:04.926153",
     "status": "completed"
    },
    "tags": []
   },
   "source": [
    "# **Importing Datasets and Data Preprocessing**"
   ]
  },
  {
   "cell_type": "code",
   "execution_count": 2,
   "metadata": {
    "execution": {
     "iopub.execute_input": "2021-03-05T00:38:05.055070Z",
     "iopub.status.busy": "2021-03-05T00:38:05.054354Z",
     "iopub.status.idle": "2021-03-05T00:38:05.336120Z",
     "shell.execute_reply": "2021-03-05T00:38:05.335409Z"
    },
    "id": "qKVR3PGjUI9w",
    "outputId": "bd4aec3f-ca8b-463e-ec1a-c8e7ed0cab65",
    "papermill": {
     "duration": 0.33068,
     "end_time": "2021-03-05T00:38:05.336277",
     "exception": false,
     "start_time": "2021-03-05T00:38:05.005597",
     "status": "completed"
    },
    "tags": []
   },
   "outputs": [
    {
     "name": "stdout",
     "output_type": "stream",
     "text": [
      "                       0           1         2                      3  \\\n",
      "0     989292962323615744  2018-04-25  23:59:57  Eastern Standard Time   \n",
      "1     989292959844663296  2018-04-25  23:59:56  Eastern Standard Time   \n",
      "2     989292951716155392  2018-04-25  23:59:54  Eastern Standard Time   \n",
      "3     989292873664393218  2018-04-25  23:59:35  Eastern Standard Time   \n",
      "4     989292856119472128  2018-04-25  23:59:31  Eastern Standard Time   \n",
      "...                  ...         ...       ...                    ...   \n",
      "2340  989036568781389830  2018-04-25  07:01:08  Eastern Standard Time   \n",
      "2341  989036542898397185  2018-04-25  07:01:01  Eastern Standard Time   \n",
      "2342  989036488162766848  2018-04-25  07:00:48  Eastern Standard Time   \n",
      "2343  989036488158572544  2018-04-25  07:00:48  Eastern Standard Time   \n",
      "2344  989036462271287297  2018-04-25  07:00:42  Eastern Standard Time   \n",
      "\n",
      "                    4                                                  5   6  \\\n",
      "0            whosalli  The lack of this understanding is a small but ...   1   \n",
      "1         estermnunes  i just told my parents about my depression and...   1   \n",
      "2       TheAlphaAries  depression is something i don't speak about ev...   0   \n",
      "3          _ojhodgson  Made myself a tortilla filled with pb&j. My de...   1   \n",
      "4     DMiller96371630  @WorldofOutlaws I am gonna need depression med...   0   \n",
      "...               ...                                                ...  ..   \n",
      "2340    WhatTheFFacts  Many sufferers of depression aren't sad; they ...  28   \n",
      "2341         luvsguap  No Depression by G Herbo is my mood from now o...   0   \n",
      "2342    AyJaxxWhitney  What do you do when depression succumbs the br...   0   \n",
      "2343       joseholist  Ketamine Nasal Spray Shows Promise Against Dep...   0   \n",
      "2344  CampfireLucifer  dont mistake a bad day with depression! everyo...   0   \n",
      "\n",
      "         7     8  \n",
      "0        0     3  \n",
      "1        0     2  \n",
      "2        0     0  \n",
      "3        0     0  \n",
      "4        0     0  \n",
      "...    ...   ...  \n",
      "2340  1200  4681  \n",
      "2341     0     2  \n",
      "2342     0     4  \n",
      "2343     0     0  \n",
      "2344     0     0  \n",
      "\n",
      "[2345 rows x 9 columns]\n"
     ]
    }
   ],
   "source": [
    "url = \"https://raw.githubusercontent.com/eddieir/Depression_detection_using_Twitter_post/master/depressive_tweets_processed.csv\"\n",
    "df= pd.read_csv(url, sep = '|', header = None, usecols = range(0,9))\n",
    "print(df)"
   ]
  },
  {
   "cell_type": "code",
   "execution_count": 3,
   "metadata": {
    "execution": {
     "iopub.execute_input": "2021-03-05T00:38:05.422830Z",
     "iopub.status.busy": "2021-03-05T00:38:05.422118Z",
     "iopub.status.idle": "2021-03-05T00:38:05.425552Z",
     "shell.execute_reply": "2021-03-05T00:38:05.425001Z"
    },
    "id": "H0mTkalwUQGT",
    "papermill": {
     "duration": 0.047905,
     "end_time": "2021-03-05T00:38:05.425705",
     "exception": false,
     "start_time": "2021-03-05T00:38:05.377800",
     "status": "completed"
    },
    "tags": []
   },
   "outputs": [],
   "source": [
    "df = df[5]"
   ]
  },
  {
   "cell_type": "markdown",
   "metadata": {
    "id": "9Ll9jlkaibdb",
    "papermill": {
     "duration": 0.039678,
     "end_time": "2021-03-05T00:38:05.505290",
     "exception": false,
     "start_time": "2021-03-05T00:38:05.465612",
     "status": "completed"
    },
    "tags": []
   },
   "source": [
    "**Removing Hashtags, Emoji, Image URLs, Hyperlinks, and Unwanted Punctuations**"
   ]
  },
  {
   "cell_type": "code",
   "execution_count": 4,
   "metadata": {
    "execution": {
     "iopub.execute_input": "2021-03-05T00:38:05.589336Z",
     "iopub.status.busy": "2021-03-05T00:38:05.588333Z",
     "iopub.status.idle": "2021-03-05T00:38:05.595487Z",
     "shell.execute_reply": "2021-03-05T00:38:05.596049Z"
    },
    "id": "gPnScSbTUVVq",
    "papermill": {
     "duration": 0.050889,
     "end_time": "2021-03-05T00:38:05.596230",
     "exception": false,
     "start_time": "2021-03-05T00:38:05.545341",
     "status": "completed"
    },
    "tags": []
   },
   "outputs": [],
   "source": [
    "def clean_tweets(tweets):\n",
    "    cleaned_tweets = []\n",
    "    for tweet in tweets:\n",
    "        tweet = str(tweet)\n",
    "        # if url links then dont append to avoid news articles\n",
    "        # also check tweet length, save those > 10 (length of word \"depression\")\n",
    "        if re.match(\"(\\w+:\\/\\/\\S+)\", tweet) == None and len(tweet) > 10:\n",
    "            # remove hashtag, @mention, emoji and image URLs\n",
    "            tweet = ' '.join(\n",
    "                re.sub(\"(@[A-Za-z0-9]+)|(\\#[A-Za-z0-9]+)|(<Emoji:.>)|(pic\\.twitter\\.com\\/.)\", \" \", tweet).split())\n",
    "        \n",
    "            tweet = re.sub(r\"http\\S+\", \"\", tweet)\n",
    "\n",
    "            # remove punctuation\n",
    "            tweet = ' '.join(re.sub(\"([^0-9A-Za-z \\t])\", \" \", tweet).split())\n",
    "\n",
    "            cleaned_tweets.append(tweet)\n",
    "\n",
    "    return cleaned_tweets"
   ]
  },
  {
   "cell_type": "code",
   "execution_count": 5,
   "metadata": {
    "execution": {
     "iopub.execute_input": "2021-03-05T00:38:05.680981Z",
     "iopub.status.busy": "2021-03-05T00:38:05.679952Z",
     "iopub.status.idle": "2021-03-05T00:38:05.795866Z",
     "shell.execute_reply": "2021-03-05T00:38:05.795124Z"
    },
    "id": "j2qC7P7vUYPY",
    "papermill": {
     "duration": 0.159301,
     "end_time": "2021-03-05T00:38:05.796031",
     "exception": false,
     "start_time": "2021-03-05T00:38:05.636730",
     "status": "completed"
    },
    "tags": []
   },
   "outputs": [],
   "source": [
    "df = clean_tweets(df)"
   ]
  },
  {
   "cell_type": "code",
   "execution_count": 6,
   "metadata": {
    "execution": {
     "iopub.execute_input": "2021-03-05T00:38:05.883792Z",
     "iopub.status.busy": "2021-03-05T00:38:05.883131Z",
     "iopub.status.idle": "2021-03-05T00:38:05.886123Z",
     "shell.execute_reply": "2021-03-05T00:38:05.885583Z"
    },
    "id": "dV630I1LUbOF",
    "papermill": {
     "duration": 0.049466,
     "end_time": "2021-03-05T00:38:05.886276",
     "exception": false,
     "start_time": "2021-03-05T00:38:05.836810",
     "status": "completed"
    },
    "tags": []
   },
   "outputs": [],
   "source": [
    "tweets = pd.DataFrame(df)"
   ]
  },
  {
   "cell_type": "code",
   "execution_count": 7,
   "metadata": {
    "execution": {
     "iopub.execute_input": "2021-03-05T00:38:05.977953Z",
     "iopub.status.busy": "2021-03-05T00:38:05.977288Z",
     "iopub.status.idle": "2021-03-05T00:38:05.987165Z",
     "shell.execute_reply": "2021-03-05T00:38:05.986619Z"
    },
    "id": "soO_GCz1U1WO",
    "outputId": "677878af-1f42-47e3-e117-ebadc2dead49",
    "papermill": {
     "duration": 0.060511,
     "end_time": "2021-03-05T00:38:05.987316",
     "exception": false,
     "start_time": "2021-03-05T00:38:05.926805",
     "status": "completed"
    },
    "tags": []
   },
   "outputs": [
    {
     "data": {
      "text/html": [
       "<div>\n",
       "<style scoped>\n",
       "    .dataframe tbody tr th:only-of-type {\n",
       "        vertical-align: middle;\n",
       "    }\n",
       "\n",
       "    .dataframe tbody tr th {\n",
       "        vertical-align: top;\n",
       "    }\n",
       "\n",
       "    .dataframe thead th {\n",
       "        text-align: right;\n",
       "    }\n",
       "</style>\n",
       "<table border=\"1\" class=\"dataframe\">\n",
       "  <thead>\n",
       "    <tr style=\"text-align: right;\">\n",
       "      <th></th>\n",
       "      <th>0</th>\n",
       "    </tr>\n",
       "  </thead>\n",
       "  <tbody>\n",
       "    <tr>\n",
       "      <th>0</th>\n",
       "      <td>The lack of this understanding is a small but ...</td>\n",
       "    </tr>\n",
       "    <tr>\n",
       "      <th>1</th>\n",
       "      <td>i just told my parents about my depression and...</td>\n",
       "    </tr>\n",
       "    <tr>\n",
       "      <th>2</th>\n",
       "      <td>depression is something i don t speak about ev...</td>\n",
       "    </tr>\n",
       "    <tr>\n",
       "      <th>3</th>\n",
       "      <td>Made myself a tortilla filled with pb j My dep...</td>\n",
       "    </tr>\n",
       "    <tr>\n",
       "      <th>4</th>\n",
       "      <td>I am gonna need depression meds soon these rai...</td>\n",
       "    </tr>\n",
       "    <tr>\n",
       "      <th>...</th>\n",
       "      <td>...</td>\n",
       "    </tr>\n",
       "    <tr>\n",
       "      <th>2303</th>\n",
       "      <td>Many sufferers of depression aren t sad they f...</td>\n",
       "    </tr>\n",
       "    <tr>\n",
       "      <th>2304</th>\n",
       "      <td>No Depression by G Herbo is my mood from now o...</td>\n",
       "    </tr>\n",
       "    <tr>\n",
       "      <th>2305</th>\n",
       "      <td>What do you do when depression succumbs the br...</td>\n",
       "    </tr>\n",
       "    <tr>\n",
       "      <th>2306</th>\n",
       "      <td>Ketamine Nasal Spray Shows Promise Against Dep...</td>\n",
       "    </tr>\n",
       "    <tr>\n",
       "      <th>2307</th>\n",
       "      <td>dont mistake a bad day with depression everyon...</td>\n",
       "    </tr>\n",
       "  </tbody>\n",
       "</table>\n",
       "<p>2308 rows × 1 columns</p>\n",
       "</div>"
      ],
      "text/plain": [
       "                                                      0\n",
       "0     The lack of this understanding is a small but ...\n",
       "1     i just told my parents about my depression and...\n",
       "2     depression is something i don t speak about ev...\n",
       "3     Made myself a tortilla filled with pb j My dep...\n",
       "4     I am gonna need depression meds soon these rai...\n",
       "...                                                 ...\n",
       "2303  Many sufferers of depression aren t sad they f...\n",
       "2304  No Depression by G Herbo is my mood from now o...\n",
       "2305  What do you do when depression succumbs the br...\n",
       "2306  Ketamine Nasal Spray Shows Promise Against Dep...\n",
       "2307  dont mistake a bad day with depression everyon...\n",
       "\n",
       "[2308 rows x 1 columns]"
      ]
     },
     "execution_count": 7,
     "metadata": {},
     "output_type": "execute_result"
    }
   ],
   "source": [
    "tweets"
   ]
  },
  {
   "cell_type": "code",
   "execution_count": 8,
   "metadata": {
    "execution": {
     "iopub.execute_input": "2021-03-05T00:38:06.076989Z",
     "iopub.status.busy": "2021-03-05T00:38:06.076324Z",
     "iopub.status.idle": "2021-03-05T00:38:06.108363Z",
     "shell.execute_reply": "2021-03-05T00:38:06.107599Z"
    },
    "id": "cIB7pW4SU8oW",
    "outputId": "1aac60da-993f-45f2-c71d-b88d17663ad2",
    "papermill": {
     "duration": 0.079351,
     "end_time": "2021-03-05T00:38:06.108518",
     "exception": false,
     "start_time": "2021-03-05T00:38:06.029167",
     "status": "completed"
    },
    "tags": []
   },
   "outputs": [
    {
     "name": "stdout",
     "output_type": "stream",
     "text": [
      "                                                 Tweets          Label\n",
      "0     Hello again me old friend depression Been a wh...     Depression\n",
      "1     Exercising for 20 minutes a day cuts risk of d...     Depression\n",
      "2     Mom s depression tied to kids emotional intell...     Depression\n",
      "3     Sleeping Pill UK Most Affordable Cure for Inso...     Depression\n",
      "4     nawaz1 Emoji Astonished face ohhhhhkkkk then y...     Depression\n",
      "...                                                 ...            ...\n",
      "3539                         Apex court puts work first  No Depression\n",
      "3540   life term for Prof Saibaba. And more. In epap...  No Depression\n",
      "3541  Good show by pales next to 329% jump in imports.   No Depression\n",
      "3542         Backlash after hails as a 'true patriot'.   No Depression\n",
      "3543                     Draupadi and campuses in erupt  No Depression\n",
      "\n",
      "[3544 rows x 2 columns]\n"
     ]
    }
   ],
   "source": [
    "url1 = \"../input/sentiment-analysis-depression-processed-dataset/trainlDataset.csv\"\n",
    "train= pd.read_csv(url1)\n",
    "print(train)"
   ]
  },
  {
   "cell_type": "code",
   "execution_count": 9,
   "metadata": {
    "execution": {
     "iopub.execute_input": "2021-03-05T00:38:06.197692Z",
     "iopub.status.busy": "2021-03-05T00:38:06.196939Z",
     "iopub.status.idle": "2021-03-05T00:38:06.216392Z",
     "shell.execute_reply": "2021-03-05T00:38:06.217009Z"
    },
    "id": "UjcHNPcXWqKN",
    "papermill": {
     "duration": 0.06689,
     "end_time": "2021-03-05T00:38:06.217244",
     "exception": false,
     "start_time": "2021-03-05T00:38:06.150354",
     "status": "completed"
    },
    "tags": []
   },
   "outputs": [
    {
     "name": "stdout",
     "output_type": "stream",
     "text": [
      "                                                 Tweets          Label\n",
      "0     More than 1 in 20 US children and teens have a...     Depression\n",
      "1     I have both Generalized anxiety disorder and v...     Depression\n",
      "2     theres depression and then theres eating half ...     Depression\n",
      "3     As someone who struggles with severe depressio...     Depression\n",
      "4     She definitely showed signs of alcoholism but ...     Depression\n",
      "...                                                 ...            ...\n",
      "1515                             cash cloak for parties  No Depression\n",
      "1516                                         In village  No Depression\n",
      "1517                      and more. Also in epaper. .12  No Depression\n",
      "1518  Enforcement Directorate Chief Karnal Singh get...  No Depression\n",
      "1519   all arrangements made to ensure free  fair el...  No Depression\n",
      "\n",
      "[1520 rows x 2 columns]\n"
     ]
    }
   ],
   "source": [
    "url2 = \"../input/sentiment-analysis-depression-processed-dataset/testDataset.csv\"\n",
    "test= pd.read_csv(url2)\n",
    "print(test)"
   ]
  },
  {
   "cell_type": "code",
   "execution_count": 10,
   "metadata": {
    "execution": {
     "iopub.execute_input": "2021-03-05T00:38:06.305882Z",
     "iopub.status.busy": "2021-03-05T00:38:06.305167Z",
     "iopub.status.idle": "2021-03-05T00:38:06.310603Z",
     "shell.execute_reply": "2021-03-05T00:38:06.311173Z"
    },
    "id": "NMKltC6-vzQz",
    "papermill": {
     "duration": 0.051243,
     "end_time": "2021-03-05T00:38:06.311375",
     "exception": false,
     "start_time": "2021-03-05T00:38:06.260132",
     "status": "completed"
    },
    "tags": []
   },
   "outputs": [],
   "source": [
    "train = shuffle(train)\n",
    "test = shuffle(test)"
   ]
  },
  {
   "cell_type": "code",
   "execution_count": 11,
   "metadata": {
    "execution": {
     "iopub.execute_input": "2021-03-05T00:38:06.399286Z",
     "iopub.status.busy": "2021-03-05T00:38:06.398580Z",
     "iopub.status.idle": "2021-03-05T00:38:06.410340Z",
     "shell.execute_reply": "2021-03-05T00:38:06.409732Z"
    },
    "id": "sj1KjaUfv548",
    "outputId": "bf388001-7602-4142-adca-e527cb2dab27",
    "papermill": {
     "duration": 0.056908,
     "end_time": "2021-03-05T00:38:06.410508",
     "exception": false,
     "start_time": "2021-03-05T00:38:06.353600",
     "status": "completed"
    },
    "tags": []
   },
   "outputs": [
    {
     "data": {
      "text/plain": [
       "No Depression    1929\n",
       "Depression       1615\n",
       "Name: Label, dtype: int64"
      ]
     },
     "execution_count": 11,
     "metadata": {},
     "output_type": "execute_result"
    }
   ],
   "source": [
    "train.Label.value_counts()"
   ]
  },
  {
   "cell_type": "code",
   "execution_count": 12,
   "metadata": {
    "execution": {
     "iopub.execute_input": "2021-03-05T00:38:06.504497Z",
     "iopub.status.busy": "2021-03-05T00:38:06.503387Z",
     "iopub.status.idle": "2021-03-05T00:38:06.508888Z",
     "shell.execute_reply": "2021-03-05T00:38:06.509468Z"
    },
    "id": "lL09Zbvfv6BM",
    "outputId": "35ce9320-30eb-4785-8191-f0191a793d84",
    "papermill": {
     "duration": 0.055898,
     "end_time": "2021-03-05T00:38:06.509644",
     "exception": false,
     "start_time": "2021-03-05T00:38:06.453746",
     "status": "completed"
    },
    "tags": []
   },
   "outputs": [
    {
     "data": {
      "text/plain": [
       "No Depression    827\n",
       "Depression       693\n",
       "Name: Label, dtype: int64"
      ]
     },
     "execution_count": 12,
     "metadata": {},
     "output_type": "execute_result"
    }
   ],
   "source": [
    "test.Label.value_counts()"
   ]
  },
  {
   "cell_type": "code",
   "execution_count": 13,
   "metadata": {
    "execution": {
     "iopub.execute_input": "2021-03-05T00:38:06.599505Z",
     "iopub.status.busy": "2021-03-05T00:38:06.598825Z",
     "iopub.status.idle": "2021-03-05T00:38:06.608842Z",
     "shell.execute_reply": "2021-03-05T00:38:06.608275Z"
    },
    "id": "8yw1ZKWVv6Hg",
    "papermill": {
     "duration": 0.056212,
     "end_time": "2021-03-05T00:38:06.609025",
     "exception": false,
     "start_time": "2021-03-05T00:38:06.552813",
     "status": "completed"
    },
    "tags": []
   },
   "outputs": [],
   "source": [
    "train['Label_num'] = train.Label.map({'No Depression':0, 'Depression':1})\n",
    "test['Label_num'] = test.Label.map({'No Depression':0, 'Depression':1})"
   ]
  },
  {
   "cell_type": "markdown",
   "metadata": {
    "id": "sWG2PbJyi5tz",
    "papermill": {
     "duration": 0.043335,
     "end_time": "2021-03-05T00:38:06.696068",
     "exception": false,
     "start_time": "2021-03-05T00:38:06.652733",
     "status": "completed"
    },
    "tags": []
   },
   "source": [
    "**Training Dataset**"
   ]
  },
  {
   "cell_type": "code",
   "execution_count": 14,
   "metadata": {
    "execution": {
     "iopub.execute_input": "2021-03-05T00:38:06.797150Z",
     "iopub.status.busy": "2021-03-05T00:38:06.796411Z",
     "iopub.status.idle": "2021-03-05T00:38:06.803405Z",
     "shell.execute_reply": "2021-03-05T00:38:06.802814Z"
    },
    "id": "AkFYEk4hz-tA",
    "outputId": "7d6cbbf5-b220-4429-eba2-b19e8f32fbf6",
    "papermill": {
     "duration": 0.063958,
     "end_time": "2021-03-05T00:38:06.803557",
     "exception": false,
     "start_time": "2021-03-05T00:38:06.739599",
     "status": "completed"
    },
    "tags": []
   },
   "outputs": [
    {
     "data": {
      "text/html": [
       "<div>\n",
       "<style scoped>\n",
       "    .dataframe tbody tr th:only-of-type {\n",
       "        vertical-align: middle;\n",
       "    }\n",
       "\n",
       "    .dataframe tbody tr th {\n",
       "        vertical-align: top;\n",
       "    }\n",
       "\n",
       "    .dataframe thead th {\n",
       "        text-align: right;\n",
       "    }\n",
       "</style>\n",
       "<table border=\"1\" class=\"dataframe\">\n",
       "  <thead>\n",
       "    <tr style=\"text-align: right;\">\n",
       "      <th></th>\n",
       "      <th>Tweets</th>\n",
       "      <th>Label</th>\n",
       "      <th>Label_num</th>\n",
       "    </tr>\n",
       "  </thead>\n",
       "  <tbody>\n",
       "    <tr>\n",
       "      <th>2132</th>\n",
       "      <td>Happy 420 everyone happy</td>\n",
       "      <td>No Depression</td>\n",
       "      <td>0</td>\n",
       "    </tr>\n",
       "    <tr>\n",
       "      <th>161</th>\n",
       "      <td>Excellent Brain decided today was a depression...</td>\n",
       "      <td>Depression</td>\n",
       "      <td>1</td>\n",
       "    </tr>\n",
       "    <tr>\n",
       "      <th>2525</th>\n",
       "      <td>to explain.</td>\n",
       "      <td>No Depression</td>\n",
       "      <td>0</td>\n",
       "    </tr>\n",
       "    <tr>\n",
       "      <th>774</th>\n",
       "      <td>Its good to hear Sometimes i kinda worried sin...</td>\n",
       "      <td>Depression</td>\n",
       "      <td>1</td>\n",
       "    </tr>\n",
       "    <tr>\n",
       "      <th>1409</th>\n",
       "      <td>Well I m bipolar I have anxiety and depression...</td>\n",
       "      <td>Depression</td>\n",
       "      <td>1</td>\n",
       "    </tr>\n",
       "    <tr>\n",
       "      <th>...</th>\n",
       "      <td>...</td>\n",
       "      <td>...</td>\n",
       "      <td>...</td>\n",
       "    </tr>\n",
       "    <tr>\n",
       "      <th>10</th>\n",
       "      <td>Depression Emoji Woman vampire light skin tone...</td>\n",
       "      <td>Depression</td>\n",
       "      <td>1</td>\n",
       "    </tr>\n",
       "    <tr>\n",
       "      <th>676</th>\n",
       "      <td>You are jst waste to society of Kenya Don t yo...</td>\n",
       "      <td>Depression</td>\n",
       "      <td>1</td>\n",
       "    </tr>\n",
       "    <tr>\n",
       "      <th>3209</th>\n",
       "      <td>3 switch to Selvam's side.</td>\n",
       "      <td>No Depression</td>\n",
       "      <td>0</td>\n",
       "    </tr>\n",
       "    <tr>\n",
       "      <th>1450</th>\n",
       "      <td>to the reason I do not speak of this I speak o...</td>\n",
       "      <td>Depression</td>\n",
       "      <td>1</td>\n",
       "    </tr>\n",
       "    <tr>\n",
       "      <th>17</th>\n",
       "      <td>Vitamin B12 deficiency can cause memory loss o...</td>\n",
       "      <td>Depression</td>\n",
       "      <td>1</td>\n",
       "    </tr>\n",
       "  </tbody>\n",
       "</table>\n",
       "<p>3544 rows × 3 columns</p>\n",
       "</div>"
      ],
      "text/plain": [
       "                                                 Tweets          Label  \\\n",
       "2132                           Happy 420 everyone happy  No Depression   \n",
       "161   Excellent Brain decided today was a depression...     Depression   \n",
       "2525                                        to explain.  No Depression   \n",
       "774   Its good to hear Sometimes i kinda worried sin...     Depression   \n",
       "1409  Well I m bipolar I have anxiety and depression...     Depression   \n",
       "...                                                 ...            ...   \n",
       "10    Depression Emoji Woman vampire light skin tone...     Depression   \n",
       "676   You are jst waste to society of Kenya Don t yo...     Depression   \n",
       "3209                        3 switch to Selvam's side.   No Depression   \n",
       "1450  to the reason I do not speak of this I speak o...     Depression   \n",
       "17    Vitamin B12 deficiency can cause memory loss o...     Depression   \n",
       "\n",
       "      Label_num  \n",
       "2132          0  \n",
       "161           1  \n",
       "2525          0  \n",
       "774           1  \n",
       "1409          1  \n",
       "...         ...  \n",
       "10            1  \n",
       "676           1  \n",
       "3209          0  \n",
       "1450          1  \n",
       "17            1  \n",
       "\n",
       "[3544 rows x 3 columns]"
      ]
     },
     "execution_count": 14,
     "metadata": {},
     "output_type": "execute_result"
    }
   ],
   "source": [
    "train"
   ]
  },
  {
   "cell_type": "markdown",
   "metadata": {
    "id": "DTlhvpV5jI54",
    "papermill": {
     "duration": 0.04438,
     "end_time": "2021-03-05T00:38:06.892670",
     "exception": false,
     "start_time": "2021-03-05T00:38:06.848290",
     "status": "completed"
    },
    "tags": []
   },
   "source": [
    "**Testing Dataset**"
   ]
  },
  {
   "cell_type": "code",
   "execution_count": 15,
   "metadata": {
    "execution": {
     "iopub.execute_input": "2021-03-05T00:38:06.995561Z",
     "iopub.status.busy": "2021-03-05T00:38:06.990105Z",
     "iopub.status.idle": "2021-03-05T00:38:07.000817Z",
     "shell.execute_reply": "2021-03-05T00:38:07.000099Z"
    },
    "id": "YdWYAHkv0CXl",
    "outputId": "735c0df7-eefd-4b4b-f17a-2086ec472259",
    "papermill": {
     "duration": 0.06361,
     "end_time": "2021-03-05T00:38:07.000989",
     "exception": false,
     "start_time": "2021-03-05T00:38:06.937379",
     "status": "completed"
    },
    "tags": []
   },
   "outputs": [
    {
     "data": {
      "text/html": [
       "<div>\n",
       "<style scoped>\n",
       "    .dataframe tbody tr th:only-of-type {\n",
       "        vertical-align: middle;\n",
       "    }\n",
       "\n",
       "    .dataframe tbody tr th {\n",
       "        vertical-align: top;\n",
       "    }\n",
       "\n",
       "    .dataframe thead th {\n",
       "        text-align: right;\n",
       "    }\n",
       "</style>\n",
       "<table border=\"1\" class=\"dataframe\">\n",
       "  <thead>\n",
       "    <tr style=\"text-align: right;\">\n",
       "      <th></th>\n",
       "      <th>Tweets</th>\n",
       "      <th>Label</th>\n",
       "      <th>Label_num</th>\n",
       "    </tr>\n",
       "  </thead>\n",
       "  <tbody>\n",
       "    <tr>\n",
       "      <th>55</th>\n",
       "      <td>I m going out on a limb here but it might have...</td>\n",
       "      <td>Depression</td>\n",
       "      <td>1</td>\n",
       "    </tr>\n",
       "    <tr>\n",
       "      <th>955</th>\n",
       "      <td>Thanks for being top engaged community members...</td>\n",
       "      <td>No Depression</td>\n",
       "      <td>0</td>\n",
       "    </tr>\n",
       "    <tr>\n",
       "      <th>564</th>\n",
       "      <td>this photo cleared my acne cured my depression...</td>\n",
       "      <td>Depression</td>\n",
       "      <td>1</td>\n",
       "    </tr>\n",
       "    <tr>\n",
       "      <th>1117</th>\n",
       "      <td>and more. Also in epaper. .41</td>\n",
       "      <td>No Depression</td>\n",
       "      <td>0</td>\n",
       "    </tr>\n",
       "    <tr>\n",
       "      <th>980</th>\n",
       "      <td>good morning</td>\n",
       "      <td>No Depression</td>\n",
       "      <td>0</td>\n",
       "    </tr>\n",
       "    <tr>\n",
       "      <th>...</th>\n",
       "      <td>...</td>\n",
       "      <td>...</td>\n",
       "      <td>...</td>\n",
       "    </tr>\n",
       "    <tr>\n",
       "      <th>1103</th>\n",
       "      <td>Pawar points out.</td>\n",
       "      <td>No Depression</td>\n",
       "      <td>0</td>\n",
       "    </tr>\n",
       "    <tr>\n",
       "      <th>1140</th>\n",
       "      <td>Govt seems to have slipped in an in Budget2017.</td>\n",
       "      <td>No Depression</td>\n",
       "      <td>0</td>\n",
       "    </tr>\n",
       "    <tr>\n",
       "      <th>525</th>\n",
       "      <td>being pan having ghey friends leaning to the l...</td>\n",
       "      <td>Depression</td>\n",
       "      <td>1</td>\n",
       "    </tr>\n",
       "    <tr>\n",
       "      <th>1381</th>\n",
       "      <td>4000 migrated in 2015 to shield their capital.</td>\n",
       "      <td>No Depression</td>\n",
       "      <td>0</td>\n",
       "    </tr>\n",
       "    <tr>\n",
       "      <th>747</th>\n",
       "      <td>is the RockSoc still going? I was there at the...</td>\n",
       "      <td>No Depression</td>\n",
       "      <td>0</td>\n",
       "    </tr>\n",
       "  </tbody>\n",
       "</table>\n",
       "<p>1520 rows × 3 columns</p>\n",
       "</div>"
      ],
      "text/plain": [
       "                                                 Tweets          Label  \\\n",
       "55    I m going out on a limb here but it might have...     Depression   \n",
       "955   Thanks for being top engaged community members...  No Depression   \n",
       "564   this photo cleared my acne cured my depression...     Depression   \n",
       "1117                      and more. Also in epaper. .41  No Depression   \n",
       "980                                        good morning  No Depression   \n",
       "...                                                 ...            ...   \n",
       "1103                                 Pawar points out.   No Depression   \n",
       "1140   Govt seems to have slipped in an in Budget2017.   No Depression   \n",
       "525   being pan having ghey friends leaning to the l...     Depression   \n",
       "1381    4000 migrated in 2015 to shield their capital.   No Depression   \n",
       "747   is the RockSoc still going? I was there at the...  No Depression   \n",
       "\n",
       "      Label_num  \n",
       "55            1  \n",
       "955           0  \n",
       "564           1  \n",
       "1117          0  \n",
       "980           0  \n",
       "...         ...  \n",
       "1103          0  \n",
       "1140          0  \n",
       "525           1  \n",
       "1381          0  \n",
       "747           0  \n",
       "\n",
       "[1520 rows x 3 columns]"
      ]
     },
     "execution_count": 15,
     "metadata": {},
     "output_type": "execute_result"
    }
   ],
   "source": [
    "test"
   ]
  },
  {
   "cell_type": "code",
   "execution_count": 16,
   "metadata": {
    "execution": {
     "iopub.execute_input": "2021-03-05T00:38:07.098881Z",
     "iopub.status.busy": "2021-03-05T00:38:07.097867Z",
     "iopub.status.idle": "2021-03-05T00:38:07.101324Z",
     "shell.execute_reply": "2021-03-05T00:38:07.100753Z"
    },
    "id": "M6rnv7Otv6V4",
    "papermill": {
     "duration": 0.054635,
     "end_time": "2021-03-05T00:38:07.101472",
     "exception": false,
     "start_time": "2021-03-05T00:38:07.046837",
     "status": "completed"
    },
    "tags": []
   },
   "outputs": [],
   "source": [
    "x_train = train['Tweets']\n",
    "y_train = train['Label_num']\n",
    "x_test = test['Tweets']\n",
    "y_test = test['Label_num']"
   ]
  },
  {
   "cell_type": "markdown",
   "metadata": {
    "id": "nrWNiwhajNyh",
    "papermill": {
     "duration": 0.044457,
     "end_time": "2021-03-05T00:38:07.190947",
     "exception": false,
     "start_time": "2021-03-05T00:38:07.146490",
     "status": "completed"
    },
    "tags": []
   },
   "source": [
    "**Function to evaluate Model Performance, Average Error and Accuracy**"
   ]
  },
  {
   "cell_type": "code",
   "execution_count": 17,
   "metadata": {
    "execution": {
     "iopub.execute_input": "2021-03-05T00:38:07.288200Z",
     "iopub.status.busy": "2021-03-05T00:38:07.287158Z",
     "iopub.status.idle": "2021-03-05T00:38:07.290121Z",
     "shell.execute_reply": "2021-03-05T00:38:07.290605Z"
    },
    "id": "dSm7X6C3yfH5",
    "papermill": {
     "duration": 0.055065,
     "end_time": "2021-03-05T00:38:07.290794",
     "exception": false,
     "start_time": "2021-03-05T00:38:07.235729",
     "status": "completed"
    },
    "tags": []
   },
   "outputs": [],
   "source": [
    "def evaluate(model, test_features, test_labels):\n",
    "    predictions = model.predict(test_features)\n",
    "    errors = abs(predictions - test_labels)\n",
    "    mape = 100 * abs(np.mean(errors / test_labels))\n",
    "    accuracy = metrics.accuracy_score(test_labels, predictions)\n",
    "    print('Model Performance')\n",
    "    print('Average Error: {:0.4f} degrees.'.format(np.mean(errors)))\n",
    "    print('Accuracy = {:0.2f}%.'.format(accuracy))\n",
    "\n",
    "    print('Exact Accuracy Value: ')\n",
    "    \n",
    "    return accuracy"
   ]
  },
  {
   "cell_type": "markdown",
   "metadata": {
    "id": "21gEb3RnnGa0",
    "papermill": {
     "duration": 0.044791,
     "end_time": "2021-03-05T00:38:07.381274",
     "exception": false,
     "start_time": "2021-03-05T00:38:07.336483",
     "status": "completed"
    },
    "tags": []
   },
   "source": [
    "# **Training**\n",
    "\n",
    "We used **Pipeline** as it assemble several steps that can be cross-validated together while setting different parameters.\n",
    "\n",
    "The **TfidfVectorizer** will tokenize documents, learn the vocabulary and inverse document frequency weightings, and allow you to encode new documents. It converts a collection of raw documents to a matrix of TF-IDF features."
   ]
  },
  {
   "cell_type": "markdown",
   "metadata": {
    "id": "OiAhWjH60INt",
    "papermill": {
     "duration": 0.044461,
     "end_time": "2021-03-05T00:38:07.470924",
     "exception": false,
     "start_time": "2021-03-05T00:38:07.426463",
     "status": "completed"
    },
    "tags": []
   },
   "source": [
    "**Logistic Regression**"
   ]
  },
  {
   "cell_type": "code",
   "execution_count": 18,
   "metadata": {
    "execution": {
     "iopub.execute_input": "2021-03-05T00:38:07.590330Z",
     "iopub.status.busy": "2021-03-05T00:38:07.579788Z",
     "iopub.status.idle": "2021-03-05T00:38:07.770324Z",
     "shell.execute_reply": "2021-03-05T00:38:07.769773Z"
    },
    "id": "K7Ac2Z-fv6Y7",
    "outputId": "e047e66b-8078-4945-c641-ac97deb094de",
    "papermill": {
     "duration": 0.254662,
     "end_time": "2021-03-05T00:38:07.770484",
     "exception": false,
     "start_time": "2021-03-05T00:38:07.515822",
     "status": "completed"
    },
    "tags": []
   },
   "outputs": [
    {
     "name": "stdout",
     "output_type": "stream",
     "text": [
      "accuracy: 96.5789%\n"
     ]
    }
   ],
   "source": [
    "pipe = Pipeline([('tfidf', TfidfVectorizer()),\n",
    "                 ('model', LogisticRegression())])\n",
    "\n",
    "model = pipe.fit(x_train, y_train)\n",
    "prediction = model.predict(x_test)\n",
    "print(\"accuracy: {}%\".format(round(accuracy_score(y_test, prediction)*100,4)))"
   ]
  },
  {
   "cell_type": "markdown",
   "metadata": {
    "id": "9XDTX-Vk0NV4",
    "papermill": {
     "duration": 0.046027,
     "end_time": "2021-03-05T00:38:07.863479",
     "exception": false,
     "start_time": "2021-03-05T00:38:07.817452",
     "status": "completed"
    },
    "tags": []
   },
   "source": [
    "**Linear SVC**"
   ]
  },
  {
   "cell_type": "code",
   "execution_count": 19,
   "metadata": {
    "execution": {
     "iopub.execute_input": "2021-03-05T00:38:07.976308Z",
     "iopub.status.busy": "2021-03-05T00:38:07.970854Z",
     "iopub.status.idle": "2021-03-05T00:38:08.112093Z",
     "shell.execute_reply": "2021-03-05T00:38:08.111381Z"
    },
    "id": "82b3mIKlv6cA",
    "outputId": "ec569044-e336-49fc-b493-143802c3c74b",
    "papermill": {
     "duration": 0.201983,
     "end_time": "2021-03-05T00:38:08.112251",
     "exception": false,
     "start_time": "2021-03-05T00:38:07.910268",
     "status": "completed"
    },
    "tags": []
   },
   "outputs": [
    {
     "name": "stdout",
     "output_type": "stream",
     "text": [
      "accuracy: 97.3026%\n"
     ]
    }
   ],
   "source": [
    "pipe = Pipeline([('tfidf', TfidfVectorizer()),\n",
    "                 ('model', LinearSVC())])\n",
    "\n",
    "model = pipe.fit(x_train, y_train)\n",
    "prediction = model.predict(x_test)\n",
    "print(\"accuracy: {}%\".format(round(accuracy_score(y_test, prediction)*100,4)))"
   ]
  },
  {
   "cell_type": "markdown",
   "metadata": {
    "id": "T53-UxaO0SrQ",
    "papermill": {
     "duration": 0.046108,
     "end_time": "2021-03-05T00:38:08.205099",
     "exception": false,
     "start_time": "2021-03-05T00:38:08.158991",
     "status": "completed"
    },
    "tags": []
   },
   "source": [
    "**Multinomial Naive Bayes**"
   ]
  },
  {
   "cell_type": "code",
   "execution_count": 20,
   "metadata": {
    "execution": {
     "iopub.execute_input": "2021-03-05T00:38:08.321910Z",
     "iopub.status.busy": "2021-03-05T00:38:08.316485Z",
     "iopub.status.idle": "2021-03-05T00:38:08.443025Z",
     "shell.execute_reply": "2021-03-05T00:38:08.442213Z"
    },
    "id": "dlxBnL-wxwbK",
    "outputId": "1d96d5db-5641-4b11-8c24-3dd832b1dc8a",
    "papermill": {
     "duration": 0.192071,
     "end_time": "2021-03-05T00:38:08.443231",
     "exception": false,
     "start_time": "2021-03-05T00:38:08.251160",
     "status": "completed"
    },
    "tags": []
   },
   "outputs": [
    {
     "name": "stdout",
     "output_type": "stream",
     "text": [
      "accuracy: 91.1184%\n"
     ]
    }
   ],
   "source": [
    "pipe = Pipeline([('tfidf', TfidfVectorizer()),\n",
    "                 ('model', MultinomialNB())])\n",
    "\n",
    "model = pipe.fit(x_train, y_train)\n",
    "prediction = model.predict(x_test)\n",
    "print(\"accuracy: {}%\".format(round(accuracy_score(y_test, prediction)*100,4)))"
   ]
  },
  {
   "cell_type": "markdown",
   "metadata": {
    "id": "uB3dRqyr0R_P",
    "papermill": {
     "duration": 0.046052,
     "end_time": "2021-03-05T00:38:08.536083",
     "exception": false,
     "start_time": "2021-03-05T00:38:08.490031",
     "status": "completed"
    },
    "tags": []
   },
   "source": [
    "**Bernoulli Naive Bayes**"
   ]
  },
  {
   "cell_type": "code",
   "execution_count": 21,
   "metadata": {
    "execution": {
     "iopub.execute_input": "2021-03-05T00:38:08.643078Z",
     "iopub.status.busy": "2021-03-05T00:38:08.637660Z",
     "iopub.status.idle": "2021-03-05T00:38:08.777172Z",
     "shell.execute_reply": "2021-03-05T00:38:08.776510Z"
    },
    "id": "6Vayd--Ix2fJ",
    "outputId": "20c4d407-9f01-44b9-b737-48d2e76e9483",
    "papermill": {
     "duration": 0.194827,
     "end_time": "2021-03-05T00:38:08.777396",
     "exception": false,
     "start_time": "2021-03-05T00:38:08.582569",
     "status": "completed"
    },
    "tags": []
   },
   "outputs": [
    {
     "name": "stdout",
     "output_type": "stream",
     "text": [
      "accuracy: 93.75%\n"
     ]
    }
   ],
   "source": [
    "pipe = Pipeline([('tfidf', TfidfVectorizer()),\n",
    "                 ('model', BernoulliNB())])\n",
    "\n",
    "model = pipe.fit(x_train, y_train)\n",
    "prediction = model.predict(x_test)\n",
    "print(\"accuracy: {}%\".format(round(accuracy_score(y_test, prediction)*100,4)))"
   ]
  },
  {
   "cell_type": "markdown",
   "metadata": {
    "id": "7eW1wcv40bjK",
    "papermill": {
     "duration": 0.046585,
     "end_time": "2021-03-05T00:38:08.870890",
     "exception": false,
     "start_time": "2021-03-05T00:38:08.824305",
     "status": "completed"
    },
    "tags": []
   },
   "source": [
    "**Gradient Boosting Classifier**"
   ]
  },
  {
   "cell_type": "code",
   "execution_count": 22,
   "metadata": {
    "execution": {
     "iopub.execute_input": "2021-03-05T00:38:08.991458Z",
     "iopub.status.busy": "2021-03-05T00:38:08.986208Z",
     "iopub.status.idle": "2021-03-05T00:38:09.327351Z",
     "shell.execute_reply": "2021-03-05T00:38:09.326382Z"
    },
    "id": "bqUWY_1dyOYg",
    "outputId": "34ac6a7d-37f7-465b-c7b7-fd94b73aa368",
    "papermill": {
     "duration": 0.40925,
     "end_time": "2021-03-05T00:38:09.327565",
     "exception": false,
     "start_time": "2021-03-05T00:38:08.918315",
     "status": "completed"
    },
    "tags": []
   },
   "outputs": [
    {
     "name": "stdout",
     "output_type": "stream",
     "text": [
      "accuracy: 97.0395%\n"
     ]
    }
   ],
   "source": [
    "pipe = Pipeline([('tfidf', TfidfVectorizer()),\n",
    "                 ('model', GradientBoostingClassifier(loss = 'deviance',\n",
    "                                                   learning_rate = 0.01,\n",
    "                                                   n_estimators = 10,\n",
    "                                                   max_depth = 5,\n",
    "                                                   random_state=55))])\n",
    "\n",
    "model = pipe.fit(x_train, y_train)\n",
    "prediction = model.predict(x_test)\n",
    "print(\"accuracy: {}%\".format(round(accuracy_score(y_test, prediction)*100,4)))"
   ]
  },
  {
   "cell_type": "markdown",
   "metadata": {
    "id": "Sd7uO59B0gGF",
    "papermill": {
     "duration": 0.047289,
     "end_time": "2021-03-05T00:38:09.422606",
     "exception": false,
     "start_time": "2021-03-05T00:38:09.375317",
     "status": "completed"
    },
    "tags": []
   },
   "source": [
    "**XBoost Classifier**"
   ]
  },
  {
   "cell_type": "code",
   "execution_count": 23,
   "metadata": {
    "execution": {
     "iopub.execute_input": "2021-03-05T00:38:09.559020Z",
     "iopub.status.busy": "2021-03-05T00:38:09.553645Z",
     "iopub.status.idle": "2021-03-05T00:38:09.841132Z",
     "shell.execute_reply": "2021-03-05T00:38:09.840447Z"
    },
    "id": "noDjYujIyR_N",
    "outputId": "54124fa7-0ac0-41ea-e3e8-21368f314886",
    "papermill": {
     "duration": 0.370917,
     "end_time": "2021-03-05T00:38:09.841333",
     "exception": false,
     "start_time": "2021-03-05T00:38:09.470416",
     "status": "completed"
    },
    "tags": []
   },
   "outputs": [
    {
     "name": "stderr",
     "output_type": "stream",
     "text": [
      "/opt/conda/lib/python3.7/site-packages/xgboost/sklearn.py:888: UserWarning: The use of label encoder in XGBClassifier is deprecated and will be removed in a future release. To remove this warning, do the following: 1) Pass option use_label_encoder=False when constructing XGBClassifier object; and 2) Encode your labels (y) as integers starting with 0, i.e. 0, 1, 2, ..., [num_class - 1].\n",
      "  warnings.warn(label_encoder_deprecation_msg, UserWarning)\n"
     ]
    },
    {
     "name": "stdout",
     "output_type": "stream",
     "text": [
      "[00:38:09] WARNING: ../src/learner.cc:541: \n",
      "Parameters: { loss } might not be used.\n",
      "\n",
      "  This may not be accurate due to some parameters are only used in language bindings but\n",
      "  passed down to XGBoost core.  Or some parameters are not used but slip through this\n",
      "  verification. Please open an issue if you find above cases.\n",
      "\n",
      "\n",
      "[00:38:09] WARNING: ../src/learner.cc:1061: Starting in XGBoost 1.3.0, the default evaluation metric used with the objective 'binary:logistic' was changed from 'error' to 'logloss'. Explicitly set eval_metric if you'd like to restore the old behavior.\n",
      "accuracy: 97.2368%\n"
     ]
    }
   ],
   "source": [
    "pipe = Pipeline([('tfidf', TfidfVectorizer()),\n",
    "                 ('model', XGBClassifier(loss = 'deviance',\n",
    "                                                   learning_rate = 0.01,\n",
    "                                                   n_estimators = 10,\n",
    "                                                   max_depth = 5,\n",
    "                                                   random_state=2020))])\n",
    "\n",
    "model = pipe.fit(x_train, y_train)\n",
    "prediction = model.predict(x_test)\n",
    "print(\"accuracy: {}%\".format(round(accuracy_score(y_test, prediction)*100,4)))"
   ]
  },
  {
   "cell_type": "markdown",
   "metadata": {
    "id": "frnsqnoA0piA",
    "papermill": {
     "duration": 0.047925,
     "end_time": "2021-03-05T00:38:09.938913",
     "exception": false,
     "start_time": "2021-03-05T00:38:09.890988",
     "status": "completed"
    },
    "tags": []
   },
   "source": [
    "**Stochastic Gradient Descent**"
   ]
  },
  {
   "cell_type": "code",
   "execution_count": 24,
   "metadata": {
    "execution": {
     "iopub.execute_input": "2021-03-05T00:38:10.060796Z",
     "iopub.status.busy": "2021-03-05T00:38:10.060018Z",
     "iopub.status.idle": "2021-03-05T00:38:10.193063Z",
     "shell.execute_reply": "2021-03-05T00:38:10.192460Z"
    },
    "id": "MJzKgfJAySCT",
    "outputId": "c35822e2-3d4d-47b1-e027-486c6d4cb4f3",
    "papermill": {
     "duration": 0.205988,
     "end_time": "2021-03-05T00:38:10.193217",
     "exception": false,
     "start_time": "2021-03-05T00:38:09.987229",
     "status": "completed"
    },
    "tags": []
   },
   "outputs": [
    {
     "name": "stdout",
     "output_type": "stream",
     "text": [
      "accuracy: 97.0395%\n"
     ]
    }
   ],
   "source": [
    "pipe = Pipeline([('tfidf', TfidfVectorizer()),\n",
    "                 ('model', SGDClassifier())])\n",
    "\n",
    "model = pipe.fit(x_train, y_train)\n",
    "prediction = model.predict(x_test)\n",
    "print(\"accuracy: {}%\".format(round(accuracy_score(y_test, prediction)*100,4)))"
   ]
  },
  {
   "cell_type": "markdown",
   "metadata": {
    "id": "OMdHT_qR0ri7",
    "papermill": {
     "duration": 0.048564,
     "end_time": "2021-03-05T00:38:10.290902",
     "exception": false,
     "start_time": "2021-03-05T00:38:10.242338",
     "status": "completed"
    },
    "tags": []
   },
   "source": [
    "**Decision Tree Classifier**"
   ]
  },
  {
   "cell_type": "code",
   "execution_count": 25,
   "metadata": {
    "execution": {
     "iopub.execute_input": "2021-03-05T00:38:10.429119Z",
     "iopub.status.busy": "2021-03-05T00:38:10.418515Z",
     "iopub.status.idle": "2021-03-05T00:38:10.577581Z",
     "shell.execute_reply": "2021-03-05T00:38:10.576886Z"
    },
    "id": "ZGFjGo80ySE-",
    "outputId": "9a0e27eb-b0af-401b-ec25-2a1e32fd77f2",
    "papermill": {
     "duration": 0.237849,
     "end_time": "2021-03-05T00:38:10.577744",
     "exception": false,
     "start_time": "2021-03-05T00:38:10.339895",
     "status": "completed"
    },
    "tags": []
   },
   "outputs": [
    {
     "name": "stdout",
     "output_type": "stream",
     "text": [
      "accuracy: 96.6447%\n"
     ]
    }
   ],
   "source": [
    "pipe = Pipeline([('tfidf', TfidfVectorizer()),\n",
    "                 ('model', DecisionTreeClassifier(criterion= 'entropy',\n",
    "                                           max_depth = 10, \n",
    "                                           splitter='best', \n",
    "                                           random_state=2020))])\n",
    "\n",
    "model = pipe.fit(x_train, y_train)\n",
    "prediction = model.predict(x_test)\n",
    "print(\"accuracy: {}%\".format(round(accuracy_score(y_test, prediction)*100,4)))"
   ]
  },
  {
   "cell_type": "markdown",
   "metadata": {
    "id": "kuWdbCoczuok",
    "papermill": {
     "duration": 0.051675,
     "end_time": "2021-03-05T00:38:10.678663",
     "exception": false,
     "start_time": "2021-03-05T00:38:10.626988",
     "status": "completed"
    },
    "tags": []
   },
   "source": [
    "**Random Forest** **Classifier** "
   ]
  },
  {
   "cell_type": "code",
   "execution_count": 26,
   "metadata": {
    "execution": {
     "iopub.execute_input": "2021-03-05T00:38:10.817171Z",
     "iopub.status.busy": "2021-03-05T00:38:10.806712Z",
     "iopub.status.idle": "2021-03-05T00:38:12.283388Z",
     "shell.execute_reply": "2021-03-05T00:38:12.282631Z"
    },
    "id": "Z05j4bUhZkYF",
    "outputId": "08cfb558-d935-4e47-f0c9-58e09e6adc9e",
    "papermill": {
     "duration": 1.546369,
     "end_time": "2021-03-05T00:38:12.283535",
     "exception": false,
     "start_time": "2021-03-05T00:38:10.737166",
     "status": "completed"
    },
    "tags": []
   },
   "outputs": [
    {
     "data": {
      "text/plain": [
       "0.9769736842105263"
      ]
     },
     "execution_count": 26,
     "metadata": {},
     "output_type": "execute_result"
    }
   ],
   "source": [
    "pipe = Pipeline([('tfidf', TfidfVectorizer()),\n",
    "                 ('rfcRandom', RandomForestClassifier())])\n",
    "\n",
    "rfcRandom = pipe.fit(x_train, y_train)\n",
    "prediction = rfcRandom.predict(x_test)\n",
    "accuracy_score(y_test, prediction)"
   ]
  },
  {
   "cell_type": "markdown",
   "metadata": {
    "id": "h4Zpn1a0jbF3",
    "papermill": {
     "duration": 0.049407,
     "end_time": "2021-03-05T00:38:12.382894",
     "exception": false,
     "start_time": "2021-03-05T00:38:12.333487",
     "status": "completed"
    },
    "tags": []
   },
   "source": [
    "# **Optimizaton**\n",
    "\n",
    "As we can see, Random Forest Classifier seems to be promising for higher accuracy.\n",
    "\n",
    "**Optimizing Random Forest Classifier model using Hyperparameter Tuning**"
   ]
  },
  {
   "cell_type": "code",
   "execution_count": 27,
   "metadata": {
    "execution": {
     "iopub.execute_input": "2021-03-05T00:38:12.522746Z",
     "iopub.status.busy": "2021-03-05T00:38:12.512070Z",
     "iopub.status.idle": "2021-03-05T00:38:12.630175Z",
     "shell.execute_reply": "2021-03-05T00:38:12.630738Z"
    },
    "id": "cwGvsn3Wa5Mq",
    "papermill": {
     "duration": 0.198372,
     "end_time": "2021-03-05T00:38:12.630943",
     "exception": false,
     "start_time": "2021-03-05T00:38:12.432571",
     "status": "completed"
    },
    "tags": []
   },
   "outputs": [],
   "source": [
    "vec = TfidfVectorizer(use_idf=True, lowercase=True, strip_accents='ascii')\n",
    "trainFreq = vec.fit_transform(train['Tweets'])\n",
    "testFreq = vec.transform(test['Tweets'])\n",
    "X_train = trainFreq\n",
    "X_test = testFreq"
   ]
  },
  {
   "cell_type": "code",
   "execution_count": 28,
   "metadata": {
    "execution": {
     "iopub.execute_input": "2021-03-05T00:38:12.737135Z",
     "iopub.status.busy": "2021-03-05T00:38:12.736470Z",
     "iopub.status.idle": "2021-03-05T00:38:14.151939Z",
     "shell.execute_reply": "2021-03-05T00:38:14.151298Z"
    },
    "id": "jBdLYHGebLID",
    "outputId": "ef68d352-9bf7-4c78-f8b6-2cb4595f90ae",
    "papermill": {
     "duration": 1.470998,
     "end_time": "2021-03-05T00:38:14.152108",
     "exception": false,
     "start_time": "2021-03-05T00:38:12.681110",
     "status": "completed"
    },
    "tags": []
   },
   "outputs": [
    {
     "data": {
      "text/plain": [
       "RandomForestClassifier()"
      ]
     },
     "execution_count": 28,
     "metadata": {},
     "output_type": "execute_result"
    }
   ],
   "source": [
    "rfc = RandomForestClassifier()\n",
    "rfc.fit(X_train, y_train)"
   ]
  },
  {
   "cell_type": "code",
   "execution_count": 29,
   "metadata": {
    "execution": {
     "iopub.execute_input": "2021-03-05T00:38:14.258255Z",
     "iopub.status.busy": "2021-03-05T00:38:14.257489Z",
     "iopub.status.idle": "2021-03-05T00:38:14.327641Z",
     "shell.execute_reply": "2021-03-05T00:38:14.327102Z"
    },
    "id": "ryH719nebWF4",
    "outputId": "c1c2aa57-44e9-4a66-a875-8d144e0e5d5b",
    "papermill": {
     "duration": 0.125136,
     "end_time": "2021-03-05T00:38:14.327793",
     "exception": false,
     "start_time": "2021-03-05T00:38:14.202657",
     "status": "completed"
    },
    "tags": []
   },
   "outputs": [
    {
     "data": {
      "text/plain": [
       "0.9789473684210527"
      ]
     },
     "execution_count": 29,
     "metadata": {},
     "output_type": "execute_result"
    }
   ],
   "source": [
    "y_predict = rfc.predict(X_test)\n",
    "y_predict = pd.DataFrame(y_predict)\n",
    "metrics.accuracy_score(y_test, y_predict)"
   ]
  },
  {
   "cell_type": "markdown",
   "metadata": {
    "id": "SNrGj87Kj5XR",
    "papermill": {
     "duration": 0.050411,
     "end_time": "2021-03-05T00:38:14.428819",
     "exception": false,
     "start_time": "2021-03-05T00:38:14.378408",
     "status": "completed"
    },
    "tags": []
   },
   "source": [
    "# **Plotting Validation Curve**"
   ]
  },
  {
   "cell_type": "markdown",
   "metadata": {
    "id": "Y4NGcfonrjFr",
    "papermill": {
     "duration": 0.050219,
     "end_time": "2021-03-05T00:38:14.529907",
     "exception": false,
     "start_time": "2021-03-05T00:38:14.479688",
     "status": "completed"
    },
    "tags": []
   },
   "source": [
    "**n_estimator**"
   ]
  },
  {
   "cell_type": "code",
   "execution_count": 30,
   "metadata": {
    "execution": {
     "iopub.execute_input": "2021-03-05T00:38:14.639518Z",
     "iopub.status.busy": "2021-03-05T00:38:14.638757Z",
     "iopub.status.idle": "2021-03-05T00:41:37.125720Z",
     "shell.execute_reply": "2021-03-05T00:41:37.124627Z"
    },
    "id": "bS28Dhl1aHoW",
    "papermill": {
     "duration": 202.544335,
     "end_time": "2021-03-05T00:41:37.125898",
     "exception": false,
     "start_time": "2021-03-05T00:38:14.581563",
     "status": "completed"
    },
    "tags": []
   },
   "outputs": [],
   "source": [
    "parameter_range = [100, 300, 500, 750, 800, 1200]\n",
    "train_scoreNum, test_scoreNum = validation_curve( rfc, X = X_train, y = y_train, param_name = 'n_estimators', param_range = parameter_range, cv = 3)"
   ]
  },
  {
   "cell_type": "code",
   "execution_count": 31,
   "metadata": {
    "execution": {
     "iopub.execute_input": "2021-03-05T00:41:37.259112Z",
     "iopub.status.busy": "2021-03-05T00:41:37.258417Z",
     "iopub.status.idle": "2021-03-05T00:41:37.464883Z",
     "shell.execute_reply": "2021-03-05T00:41:37.464327Z"
    },
    "id": "RaLHMXqObruO",
    "outputId": "0f29b273-e3cc-474c-c56e-b2b6feae6129",
    "papermill": {
     "duration": 0.287514,
     "end_time": "2021-03-05T00:41:37.465047",
     "exception": false,
     "start_time": "2021-03-05T00:41:37.177533",
     "status": "completed"
    },
    "tags": []
   },
   "outputs": [
    {
     "data": {
      "image/png": "[encoded data removed]",
      "text/plain": [
       "<Figure size 432x288 with 1 Axes>"
      ]
     },
     "metadata": {
      "needs_background": "light"
     },
     "output_type": "display_data"
    }
   ],
   "source": [
    "mean_train_scoreNum = np.mean(train_scoreNum, axis = 1) \n",
    "std_train_scoreNum = np.std(train_scoreNum, axis = 1) \n",
    "   \n",
    "mean_test_scoreNum = np.mean(test_scoreNum, axis = 1) \n",
    "std_test_scoreNum = np.std(test_scoreNum, axis = 1) \n",
    "\n",
    "plt.plot(parameter_range, mean_train_scoreNum,  \n",
    "     label = \"Training Score\", color = 'b') \n",
    "plt.plot(parameter_range, mean_test_scoreNum, \n",
    "   label = \"Cross Validation Score\", color = 'g') \n",
    "  \n",
    "# Creating the plot \n",
    "plt.title(\"Validation Curve with Random Forest Classifier\") \n",
    "plt.xlabel(\"n_estimator\") \n",
    "plt.ylabel(\"Accuracy\") \n",
    "plt.tight_layout() \n",
    "plt.legend(loc = 'best') \n",
    "plt.show()"
   ]
  },
  {
   "cell_type": "markdown",
   "metadata": {
    "id": "ZBZaj-HLrmQV",
    "papermill": {
     "duration": 0.051798,
     "end_time": "2021-03-05T00:41:37.570091",
     "exception": false,
     "start_time": "2021-03-05T00:41:37.518293",
     "status": "completed"
    },
    "tags": []
   },
   "source": [
    "**min_samples_leaf**"
   ]
  },
  {
   "cell_type": "code",
   "execution_count": 32,
   "metadata": {
    "execution": {
     "iopub.execute_input": "2021-03-05T00:41:37.682882Z",
     "iopub.status.busy": "2021-03-05T00:41:37.681747Z",
     "iopub.status.idle": "2021-03-05T00:41:59.374459Z",
     "shell.execute_reply": "2021-03-05T00:41:59.375144Z"
    },
    "id": "TnUvlDoUom4O",
    "papermill": {
     "duration": 21.752738,
     "end_time": "2021-03-05T00:41:59.375375",
     "exception": false,
     "start_time": "2021-03-05T00:41:37.622637",
     "status": "completed"
    },
    "tags": []
   },
   "outputs": [],
   "source": [
    "parameter_range = [1,2,3,4,5,6,7,8,9,10]\n",
    "train_scoreNum, test_scoreNum = validation_curve( rfc, X = X_train, y = y_train, param_name = 'min_samples_leaf', param_range = parameter_range, cv = 3)"
   ]
  },
  {
   "cell_type": "code",
   "execution_count": 33,
   "metadata": {
    "execution": {
     "iopub.execute_input": "2021-03-05T00:41:59.488540Z",
     "iopub.status.busy": "2021-03-05T00:41:59.487092Z",
     "iopub.status.idle": "2021-03-05T00:41:59.701740Z",
     "shell.execute_reply": "2021-03-05T00:41:59.702442Z"
    },
    "id": "mqycQURIouYM",
    "outputId": "030afb6e-f296-4135-b5b7-3471530c4c1f",
    "papermill": {
     "duration": 0.272186,
     "end_time": "2021-03-05T00:41:59.702663",
     "exception": false,
     "start_time": "2021-03-05T00:41:59.430477",
     "status": "completed"
    },
    "tags": []
   },
   "outputs": [
    {
     "data": {
      "image/png": "[encoded data removed]",
      "text/plain": [
       "<Figure size 432x288 with 1 Axes>"
      ]
     },
     "metadata": {
      "needs_background": "light"
     },
     "output_type": "display_data"
    }
   ],
   "source": [
    "mean_train_scoreNum = np.mean(train_scoreNum, axis = 1) \n",
    "std_train_scoreNum = np.std(train_scoreNum, axis = 1) \n",
    "   \n",
    "mean_test_scoreNum = np.mean(test_scoreNum, axis = 1) \n",
    "std_test_scoreNum = np.std(test_scoreNum, axis = 1) \n",
    "\n",
    "plt.plot(parameter_range, mean_train_scoreNum,  \n",
    "     label = \"Training Score\", color = 'b') \n",
    "plt.plot(parameter_range, mean_test_scoreNum, \n",
    "   label = \"Cross Validation Score\", color = 'g') \n",
    "  \n",
    "# Creating the plot \n",
    "plt.title(\"Validation Curve with Random Forest Classifier\") \n",
    "plt.xlabel(\"min_samples_leaf\") \n",
    "plt.ylabel(\"Accuracy\") \n",
    "plt.tight_layout() \n",
    "plt.legend(loc = 'best') \n",
    "plt.show()"
   ]
  },
  {
   "cell_type": "markdown",
   "metadata": {
    "id": "qagS_hrTrrOz",
    "papermill": {
     "duration": 0.053526,
     "end_time": "2021-03-05T00:41:59.812336",
     "exception": false,
     "start_time": "2021-03-05T00:41:59.758810",
     "status": "completed"
    },
    "tags": []
   },
   "source": [
    "**min_samples_split**"
   ]
  },
  {
   "cell_type": "code",
   "execution_count": 34,
   "metadata": {
    "execution": {
     "iopub.execute_input": "2021-03-05T00:41:59.923149Z",
     "iopub.status.busy": "2021-03-05T00:41:59.922431Z",
     "iopub.status.idle": "2021-03-05T00:42:46.316929Z",
     "shell.execute_reply": "2021-03-05T00:42:46.317445Z"
    },
    "id": "CCyet5jho2qz",
    "papermill": {
     "duration": 46.451618,
     "end_time": "2021-03-05T00:42:46.317638",
     "exception": false,
     "start_time": "2021-03-05T00:41:59.866020",
     "status": "completed"
    },
    "tags": []
   },
   "outputs": [],
   "source": [
    "parameter_range = [2,3,4,5,6,7,8,9,10]\n",
    "train_scoreNum, test_scoreNum = validation_curve( rfc, X = X_train, y = y_train, param_name = 'min_samples_split', param_range = parameter_range, cv = 3)"
   ]
  },
  {
   "cell_type": "code",
   "execution_count": 35,
   "metadata": {
    "execution": {
     "iopub.execute_input": "2021-03-05T00:42:46.429376Z",
     "iopub.status.busy": "2021-03-05T00:42:46.428381Z",
     "iopub.status.idle": "2021-03-05T00:42:46.644143Z",
     "shell.execute_reply": "2021-03-05T00:42:46.644656Z"
    },
    "id": "xhTNTcGMo4yJ",
    "outputId": "8a857100-38a4-4a8f-93fa-f040f402fb7e",
    "papermill": {
     "duration": 0.27383,
     "end_time": "2021-03-05T00:42:46.644830",
     "exception": false,
     "start_time": "2021-03-05T00:42:46.371000",
     "status": "completed"
    },
    "tags": []
   },
   "outputs": [
    {
     "data": {
      "image/png": "[encoded data removed]",
      "text/plain": [
       "<Figure size 432x288 with 1 Axes>"
      ]
     },
     "metadata": {
      "needs_background": "light"
     },
     "output_type": "display_data"
    }
   ],
   "source": [
    "mean_train_scoreNum = np.mean(train_scoreNum, axis = 1) \n",
    "std_train_scoreNum = np.std(train_scoreNum, axis = 1) \n",
    "   \n",
    "mean_test_scoreNum = np.mean(test_scoreNum, axis = 1) \n",
    "std_test_scoreNum = np.std(test_scoreNum, axis = 1) \n",
    "\n",
    "plt.plot(parameter_range, mean_train_scoreNum,  \n",
    "     label = \"Training Score\", color = 'b') \n",
    "plt.plot(parameter_range, mean_test_scoreNum, \n",
    "   label = \"Cross Validation Score\", color = 'g') \n",
    "  \n",
    "# Creating the plot \n",
    "plt.title(\"Validation Curve with Random Forest Classifier\") \n",
    "plt.xlabel(\"min_samples_split\") \n",
    "plt.ylabel(\"Accuracy\") \n",
    "plt.tight_layout() \n",
    "plt.legend(loc = 'best') \n",
    "plt.show()"
   ]
  },
  {
   "cell_type": "markdown",
   "metadata": {
    "id": "gJ8xQtaSrwoH",
    "papermill": {
     "duration": 0.053892,
     "end_time": "2021-03-05T00:42:46.752709",
     "exception": false,
     "start_time": "2021-03-05T00:42:46.698817",
     "status": "completed"
    },
    "tags": []
   },
   "source": [
    "**max_features**"
   ]
  },
  {
   "cell_type": "code",
   "execution_count": 36,
   "metadata": {
    "execution": {
     "iopub.execute_input": "2021-03-05T00:42:46.866568Z",
     "iopub.status.busy": "2021-03-05T00:42:46.865491Z",
     "iopub.status.idle": "2021-03-05T00:42:58.028333Z",
     "shell.execute_reply": "2021-03-05T00:42:58.028878Z"
    },
    "id": "qNe_akAVpsQp",
    "papermill": {
     "duration": 11.221506,
     "end_time": "2021-03-05T00:42:58.029078",
     "exception": false,
     "start_time": "2021-03-05T00:42:46.807572",
     "status": "completed"
    },
    "tags": []
   },
   "outputs": [],
   "source": [
    "parameter_range = ['auto', 'sqrt']\n",
    "train_scoreNum, test_scoreNum = validation_curve( rfc, X = X_train, y = y_train, param_name = 'max_features', param_range = parameter_range, cv = 3)"
   ]
  },
  {
   "cell_type": "code",
   "execution_count": 37,
   "metadata": {
    "execution": {
     "iopub.execute_input": "2021-03-05T00:42:58.142827Z",
     "iopub.status.busy": "2021-03-05T00:42:58.141823Z",
     "iopub.status.idle": "2021-03-05T00:42:58.302861Z",
     "shell.execute_reply": "2021-03-05T00:42:58.303413Z"
    },
    "id": "-8uTBu8Up1up",
    "outputId": "dc9518a6-aa93-4953-ce8f-db0cc1980100",
    "papermill": {
     "duration": 0.220084,
     "end_time": "2021-03-05T00:42:58.303596",
     "exception": false,
     "start_time": "2021-03-05T00:42:58.083512",
     "status": "completed"
    },
    "tags": []
   },
   "outputs": [
    {
     "data": {
      "image/png": "[encoded data removed]",
      "text/plain": [
       "<Figure size 432x288 with 1 Axes>"
      ]
     },
     "metadata": {
      "needs_background": "light"
     },
     "output_type": "display_data"
    }
   ],
   "source": [
    "mean_train_scoreNum = np.mean(train_scoreNum, axis = 1) \n",
    "std_train_scoreNum = np.std(train_scoreNum, axis = 1) \n",
    "   \n",
    "mean_test_scoreNum = np.mean(test_scoreNum, axis = 1) \n",
    "std_test_scoreNum = np.std(test_scoreNum, axis = 1) \n",
    "\n",
    "plt.plot(parameter_range, mean_train_scoreNum,  \n",
    "     label = \"Training Score\", color = 'b') \n",
    "plt.plot(parameter_range, mean_test_scoreNum, \n",
    "   label = \"Cross Validation Score\", color = 'g') \n",
    "  \n",
    "# Creating the plot \n",
    "plt.title(\"Validation Curve with Random Forest Classifier\") \n",
    "plt.xlabel(\"max_features\") \n",
    "plt.ylabel(\"Accuracy\") \n",
    "plt.tight_layout() \n",
    "plt.legend(loc = 'best') \n",
    "plt.show()"
   ]
  },
  {
   "cell_type": "markdown",
   "metadata": {
    "id": "_j6PFcQer0id",
    "papermill": {
     "duration": 0.05489,
     "end_time": "2021-03-05T00:42:58.413438",
     "exception": false,
     "start_time": "2021-03-05T00:42:58.358548",
     "status": "completed"
    },
    "tags": []
   },
   "source": [
    "**max_depth**"
   ]
  },
  {
   "cell_type": "code",
   "execution_count": 38,
   "metadata": {
    "execution": {
     "iopub.execute_input": "2021-03-05T00:42:58.527831Z",
     "iopub.status.busy": "2021-03-05T00:42:58.526856Z",
     "iopub.status.idle": "2021-03-05T00:43:31.152166Z",
     "shell.execute_reply": "2021-03-05T00:43:31.151531Z"
    },
    "id": "va80EE3pqDCK",
    "papermill": {
     "duration": 32.683784,
     "end_time": "2021-03-05T00:43:31.152321",
     "exception": false,
     "start_time": "2021-03-05T00:42:58.468537",
     "status": "completed"
    },
    "tags": []
   },
   "outputs": [],
   "source": [
    "parameter_range = [100, 200, 300, 400, 500, 600]\n",
    "train_scoreNum, test_scoreNum = validation_curve( rfc, X = X_train, y = y_train, param_name = 'max_depth', param_range = parameter_range, cv = 3)"
   ]
  },
  {
   "cell_type": "code",
   "execution_count": 39,
   "metadata": {
    "execution": {
     "iopub.execute_input": "2021-03-05T00:43:31.267741Z",
     "iopub.status.busy": "2021-03-05T00:43:31.266737Z",
     "iopub.status.idle": "2021-03-05T00:43:31.470307Z",
     "shell.execute_reply": "2021-03-05T00:43:31.470774Z"
    },
    "id": "OlwXodKCqFWT",
    "outputId": "60cea8ba-0a6c-43d3-c24d-c489aa886ff3",
    "papermill": {
     "duration": 0.262816,
     "end_time": "2021-03-05T00:43:31.470986",
     "exception": false,
     "start_time": "2021-03-05T00:43:31.208170",
     "status": "completed"
    },
    "tags": []
   },
   "outputs": [
    {
     "data": {
      "image/png": "[encoded data removed]",
      "text/plain": [
       "<Figure size 432x288 with 1 Axes>"
      ]
     },
     "metadata": {
      "needs_background": "light"
     },
     "output_type": "display_data"
    }
   ],
   "source": [
    "mean_train_scoreNum = np.mean(train_scoreNum, axis = 1) \n",
    "std_train_scoreNum = np.std(train_scoreNum, axis = 1) \n",
    "   \n",
    "mean_test_scoreNum = np.mean(test_scoreNum, axis = 1) \n",
    "std_test_scoreNum = np.std(test_scoreNum, axis = 1) \n",
    "\n",
    "plt.plot(parameter_range, mean_train_scoreNum,  \n",
    "     label = \"Training Score\", color = 'b') \n",
    "plt.plot(parameter_range, mean_test_scoreNum, \n",
    "   label = \"Cross Validation Score\", color = 'g') \n",
    "  \n",
    "# Creating the plot \n",
    "plt.title(\"Validation Curve with Random Forest Classifier\") \n",
    "plt.xlabel(\"max_depth\") \n",
    "plt.ylabel(\"Accuracy\") \n",
    "plt.tight_layout() \n",
    "plt.legend(loc = 'best') \n",
    "plt.show()"
   ]
  },
  {
   "cell_type": "markdown",
   "metadata": {
    "id": "kbULX3p1r5qS",
    "papermill": {
     "duration": 0.056098,
     "end_time": "2021-03-05T00:43:31.583317",
     "exception": false,
     "start_time": "2021-03-05T00:43:31.527219",
     "status": "completed"
    },
    "tags": []
   },
   "source": [
    "**max_leaf_nodes**"
   ]
  },
  {
   "cell_type": "code",
   "execution_count": 40,
   "metadata": {
    "execution": {
     "iopub.execute_input": "2021-03-05T00:43:31.700307Z",
     "iopub.status.busy": "2021-03-05T00:43:31.699299Z",
     "iopub.status.idle": "2021-03-05T00:44:01.202900Z",
     "shell.execute_reply": "2021-03-05T00:44:01.202210Z"
    },
    "id": "BwYv8OQGqXSg",
    "papermill": {
     "duration": 29.563357,
     "end_time": "2021-03-05T00:44:01.203078",
     "exception": false,
     "start_time": "2021-03-05T00:43:31.639721",
     "status": "completed"
    },
    "tags": []
   },
   "outputs": [],
   "source": [
    "parameter_range = [100, 200, 300, 400, 500, 600]\n",
    "train_scoreNum, test_scoreNum = validation_curve( rfc, X = X_train, y = y_train, param_name = 'max_leaf_nodes', param_range = parameter_range, cv = 3)"
   ]
  },
  {
   "cell_type": "code",
   "execution_count": 41,
   "metadata": {
    "execution": {
     "iopub.execute_input": "2021-03-05T00:44:01.347692Z",
     "iopub.status.busy": "2021-03-05T00:44:01.344543Z",
     "iopub.status.idle": "2021-03-05T00:44:01.532862Z",
     "shell.execute_reply": "2021-03-05T00:44:01.532349Z"
    },
    "id": "Mh1WR_b2qelP",
    "outputId": "07e58f7f-7eaa-4ca4-bdad-36c0c9d3e14a",
    "papermill": {
     "duration": 0.272165,
     "end_time": "2021-03-05T00:44:01.533040",
     "exception": false,
     "start_time": "2021-03-05T00:44:01.260875",
     "status": "completed"
    },
    "tags": []
   },
   "outputs": [
    {
     "data": {
      "image/png": "[encoded data removed]",
      "text/plain": [
       "<Figure size 432x288 with 1 Axes>"
      ]
     },
     "metadata": {
      "needs_background": "light"
     },
     "output_type": "display_data"
    }
   ],
   "source": [
    "mean_train_scoreNum = np.mean(train_scoreNum, axis = 1) \n",
    "std_train_scoreNum = np.std(train_scoreNum, axis = 1) \n",
    "   \n",
    "mean_test_scoreNum = np.mean(test_scoreNum, axis = 1) \n",
    "std_test_scoreNum = np.std(test_scoreNum, axis = 1) \n",
    "\n",
    "plt.plot(parameter_range, mean_train_scoreNum,  \n",
    "     label = \"Training Score\", color = 'b') \n",
    "plt.plot(parameter_range, mean_test_scoreNum, \n",
    "   label = \"Cross Validation Score\", color = 'g') \n",
    "  \n",
    "# Creating the plot \n",
    "plt.title(\"Validation Curve with Random Forest Classifier\") \n",
    "plt.xlabel(\"max_leaf_nodes\") \n",
    "plt.ylabel(\"Accuracy\") \n",
    "plt.tight_layout() \n",
    "plt.legend(loc = 'best') \n",
    "plt.show()"
   ]
  },
  {
   "cell_type": "markdown",
   "metadata": {
    "id": "EfaEO9MLr8-O",
    "papermill": {
     "duration": 0.057772,
     "end_time": "2021-03-05T00:44:01.648771",
     "exception": false,
     "start_time": "2021-03-05T00:44:01.590999",
     "status": "completed"
    },
    "tags": []
   },
   "source": [
    "**min_samples_leaf**"
   ]
  },
  {
   "cell_type": "code",
   "execution_count": 42,
   "metadata": {
    "execution": {
     "iopub.execute_input": "2021-03-05T00:44:01.773280Z",
     "iopub.status.busy": "2021-03-05T00:44:01.772594Z",
     "iopub.status.idle": "2021-03-05T00:44:19.627025Z",
     "shell.execute_reply": "2021-03-05T00:44:19.627562Z"
    },
    "id": "MqvJitZdqnQx",
    "papermill": {
     "duration": 17.920645,
     "end_time": "2021-03-05T00:44:19.627743",
     "exception": false,
     "start_time": "2021-03-05T00:44:01.707098",
     "status": "completed"
    },
    "tags": []
   },
   "outputs": [],
   "source": [
    "parameter_range = [1, 2, 3, 4, 5, 6, 7]\n",
    "train_scoreNum, test_scoreNum = validation_curve( rfc, X = X_train, y = y_train, param_name = 'min_samples_leaf', param_range = parameter_range, cv = 3)"
   ]
  },
  {
   "cell_type": "code",
   "execution_count": 43,
   "metadata": {
    "execution": {
     "iopub.execute_input": "2021-03-05T00:44:19.770220Z",
     "iopub.status.busy": "2021-03-05T00:44:19.769509Z",
     "iopub.status.idle": "2021-03-05T00:44:19.951995Z",
     "shell.execute_reply": "2021-03-05T00:44:19.951375Z"
    },
    "id": "UdI4PN7aq2PI",
    "outputId": "1e34a31a-220c-44ce-beae-5aab3eb681a5",
    "papermill": {
     "duration": 0.266345,
     "end_time": "2021-03-05T00:44:19.952147",
     "exception": false,
     "start_time": "2021-03-05T00:44:19.685802",
     "status": "completed"
    },
    "tags": []
   },
   "outputs": [
    {
     "data": {
      "image/png": "[encoded data removed]",
      "text/plain": [
       "<Figure size 432x288 with 1 Axes>"
      ]
     },
     "metadata": {
      "needs_background": "light"
     },
     "output_type": "display_data"
    }
   ],
   "source": [
    "mean_train_scoreNum = np.mean(train_scoreNum, axis = 1) \n",
    "std_train_scoreNum = np.std(train_scoreNum, axis = 1) \n",
    "   \n",
    "mean_test_scoreNum = np.mean(test_scoreNum, axis = 1) \n",
    "std_test_scoreNum = np.std(test_scoreNum, axis = 1) \n",
    "\n",
    "plt.plot(parameter_range, mean_train_scoreNum,  \n",
    "     label = \"Training Score\", color = 'b') \n",
    "plt.plot(parameter_range, mean_test_scoreNum, \n",
    "   label = \"Cross Validation Score\", color = 'g') \n",
    "  \n",
    "# Creating the plot \n",
    "plt.title(\"Validation Curve with Random Forest Classifier\") \n",
    "plt.xlabel(\"min_samples_leaf\") \n",
    "plt.ylabel(\"Accuracy\") \n",
    "plt.tight_layout() \n",
    "plt.legend(loc = 'best') \n",
    "plt.show()"
   ]
  },
  {
   "cell_type": "markdown",
   "metadata": {
    "id": "gsXwmQh0kBgx",
    "papermill": {
     "duration": 0.060215,
     "end_time": "2021-03-05T00:44:20.072387",
     "exception": false,
     "start_time": "2021-03-05T00:44:20.012172",
     "status": "completed"
    },
    "tags": []
   },
   "source": [
    "# **Using RandomizedSearchCV for optimization**\n",
    "\n",
    "Using Scikit-Learn’s RandomizedSearchCV method, we can define a grid of hyperparameter ranges, and randomly sample from the grid, performing K-Fold CV with each combination of values."
   ]
  },
  {
   "cell_type": "code",
   "execution_count": 44,
   "metadata": {
    "execution": {
     "iopub.execute_input": "2021-03-05T00:44:20.204931Z",
     "iopub.status.busy": "2021-03-05T00:44:20.204289Z",
     "iopub.status.idle": "2021-03-05T00:44:20.208586Z",
     "shell.execute_reply": "2021-03-05T00:44:20.209256Z"
    },
    "id": "0RXDp2IlbweH",
    "outputId": "f990a1ca-8b1a-4662-d034-37ca5eb826ff",
    "papermill": {
     "duration": 0.075182,
     "end_time": "2021-03-05T00:44:20.209506",
     "exception": false,
     "start_time": "2021-03-05T00:44:20.134324",
     "status": "completed"
    },
    "tags": []
   },
   "outputs": [
    {
     "name": "stdout",
     "output_type": "stream",
     "text": [
      "{'n_estimators': [200, 400, 600, 800, 1000, 1200, 1400, 1600, 1800, 2000], 'max_features': ['auto', 'sqrt'], 'max_depth': [10, 20, 30, 40, 50, 60, 70, 80, 90, 100, 110, None], 'min_samples_split': [2, 5, 10, 15, 100], 'min_samples_leaf': [1, 2, 4, 5, 10], 'bootstrap': [True, False]}\n"
     ]
    }
   ],
   "source": [
    "n_estimators = [int(x) for x in np.linspace(start = 200, stop = 2000, num = 10)]\n",
    "max_features = ['auto', 'sqrt']\n",
    "max_depth = [ int(x) for x in np.linspace(10, 110, num = 11)]\n",
    "max_depth.append(None)\n",
    "min_samples_split = [2, 5, 10, 15, 100]\n",
    "min_samples_leaf = [1, 2, 4, 5, 10]\n",
    "bootstrap = [True, False]\n",
    "\n",
    "random_grid = {'n_estimators': n_estimators,\n",
    "               'max_features': max_features,\n",
    "               'max_depth': max_depth,\n",
    "               'min_samples_split': min_samples_split,\n",
    "               'min_samples_leaf': min_samples_leaf,\n",
    "               'bootstrap': bootstrap}\n",
    "print(random_grid)"
   ]
  },
  {
   "cell_type": "code",
   "execution_count": 45,
   "metadata": {
    "execution": {
     "iopub.execute_input": "2021-03-05T00:44:20.335110Z",
     "iopub.status.busy": "2021-03-05T00:44:20.334430Z",
     "iopub.status.idle": "2021-03-05T00:44:20.338025Z",
     "shell.execute_reply": "2021-03-05T00:44:20.337272Z"
    },
    "id": "IDRKQ4UXbzWy",
    "papermill": {
     "duration": 0.068412,
     "end_time": "2021-03-05T00:44:20.338192",
     "exception": false,
     "start_time": "2021-03-05T00:44:20.269780",
     "status": "completed"
    },
    "tags": []
   },
   "outputs": [],
   "source": [
    "rf = RandomForestClassifier()\n",
    "rf_random = RandomizedSearchCV(estimator = rf, param_distributions = random_grid, n_iter = 100, cv = 3, verbose=2, random_state=42, n_jobs = -1)"
   ]
  },
  {
   "cell_type": "code",
   "execution_count": 46,
   "metadata": {
    "execution": {
     "iopub.execute_input": "2021-03-05T00:44:20.464805Z",
     "iopub.status.busy": "2021-03-05T00:44:20.464020Z",
     "iopub.status.idle": "2021-03-05T01:05:57.162585Z",
     "shell.execute_reply": "2021-03-05T01:05:57.163179Z"
    },
    "id": "ZhhGanmKb5ya",
    "outputId": "5eb69726-51b5-4aba-cd49-11c7175f1689",
    "papermill": {
     "duration": 1296.764384,
     "end_time": "2021-03-05T01:05:57.163437",
     "exception": false,
     "start_time": "2021-03-05T00:44:20.399053",
     "status": "completed"
    },
    "tags": []
   },
   "outputs": [
    {
     "name": "stdout",
     "output_type": "stream",
     "text": [
      "Fitting 3 folds for each of 100 candidates, totalling 300 fits\n"
     ]
    },
    {
     "data": {
      "text/plain": [
       "RandomizedSearchCV(cv=3, estimator=RandomForestClassifier(), n_iter=100,\n",
       "                   n_jobs=-1,\n",
       "                   param_distributions={'bootstrap': [True, False],\n",
       "                                        'max_depth': [10, 20, 30, 40, 50, 60,\n",
       "                                                      70, 80, 90, 100, 110,\n",
       "                                                      None],\n",
       "                                        'max_features': ['auto', 'sqrt'],\n",
       "                                        'min_samples_leaf': [1, 2, 4, 5, 10],\n",
       "                                        'min_samples_split': [2, 5, 10, 15,\n",
       "                                                              100],\n",
       "                                        'n_estimators': [200, 400, 600, 800,\n",
       "                                                         1000, 1200, 1400, 1600,\n",
       "                                                         1800, 2000]},\n",
       "                   random_state=42, verbose=2)"
      ]
     },
     "execution_count": 46,
     "metadata": {},
     "output_type": "execute_result"
    }
   ],
   "source": [
    "rf_random.fit(X_train, y_train)"
   ]
  },
  {
   "cell_type": "code",
   "execution_count": 47,
   "metadata": {
    "execution": {
     "iopub.execute_input": "2021-03-05T01:05:57.290878Z",
     "iopub.status.busy": "2021-03-05T01:05:57.289828Z",
     "iopub.status.idle": "2021-03-05T01:05:57.296065Z",
     "shell.execute_reply": "2021-03-05T01:05:57.296584Z"
    },
    "id": "ZnUtSHSXb8ae",
    "outputId": "22155911-f504-4c20-ad11-47df4c102991",
    "papermill": {
     "duration": 0.072225,
     "end_time": "2021-03-05T01:05:57.296764",
     "exception": false,
     "start_time": "2021-03-05T01:05:57.224539",
     "status": "completed"
    },
    "tags": []
   },
   "outputs": [
    {
     "data": {
      "text/plain": [
       "{'n_estimators': 800,\n",
       " 'min_samples_split': 2,\n",
       " 'min_samples_leaf': 1,\n",
       " 'max_features': 'sqrt',\n",
       " 'max_depth': 90,\n",
       " 'bootstrap': False}"
      ]
     },
     "execution_count": 47,
     "metadata": {},
     "output_type": "execute_result"
    }
   ],
   "source": [
    "rf_random.best_params_"
   ]
  },
  {
   "cell_type": "markdown",
   "metadata": {
    "id": "mCvF6jtOklUR",
    "papermill": {
     "duration": 0.060794,
     "end_time": "2021-03-05T01:05:57.475007",
     "exception": false,
     "start_time": "2021-03-05T01:05:57.414213",
     "status": "completed"
    },
    "tags": []
   },
   "source": [
    "# **Re-training the model using optimized parameters.**"
   ]
  },
  {
   "cell_type": "code",
   "execution_count": 48,
   "metadata": {
    "execution": {
     "iopub.execute_input": "2021-03-05T01:05:57.601976Z",
     "iopub.status.busy": "2021-03-05T01:05:57.600941Z",
     "iopub.status.idle": "2021-03-05T01:06:18.229316Z",
     "shell.execute_reply": "2021-03-05T01:06:18.228578Z"
    },
    "id": "ROZZfcaEmE-E",
    "outputId": "a46b45f4-ecc0-4365-d214-878348b9ab1c",
    "papermill": {
     "duration": 20.69344,
     "end_time": "2021-03-05T01:06:18.229465",
     "exception": false,
     "start_time": "2021-03-05T01:05:57.536025",
     "status": "completed"
    },
    "tags": []
   },
   "outputs": [
    {
     "data": {
      "text/plain": [
       "0.9789473684210527"
      ]
     },
     "execution_count": 48,
     "metadata": {},
     "output_type": "execute_result"
    }
   ],
   "source": [
    "pipe = Pipeline([('tfidf', TfidfVectorizer()),\n",
    "                 ('rfcRandom', RandomForestClassifier(bootstrap = False,\n",
    " max_depth = 110,\n",
    " max_features = 'auto',\n",
    " min_samples_leaf = 1,\n",
    " min_samples_split = 5,\n",
    " n_estimators = 1400))])\n",
    "\n",
    "rfcRandom = pipe.fit(x_train, y_train)\n",
    "prediction = rfcRandom.predict(x_test)\n",
    "accuracy_score(y_test, prediction)"
   ]
  },
  {
   "cell_type": "markdown",
   "metadata": {
    "id": "_0L2PXSgk4fJ",
    "papermill": {
     "duration": 0.061993,
     "end_time": "2021-03-05T01:06:18.354970",
     "exception": false,
     "start_time": "2021-03-05T01:06:18.292977",
     "status": "completed"
    },
    "tags": []
   },
   "source": [
    "# **Overall Model Performance**"
   ]
  },
  {
   "cell_type": "code",
   "execution_count": 49,
   "metadata": {
    "execution": {
     "iopub.execute_input": "2021-03-05T01:06:18.516003Z",
     "iopub.status.busy": "2021-03-05T01:06:18.508211Z",
     "iopub.status.idle": "2021-03-05T01:06:19.401354Z",
     "shell.execute_reply": "2021-03-05T01:06:19.402238Z"
    },
    "id": "XNpdxiTN9XyP",
    "outputId": "0cc08553-1685-4ad2-eaa2-7ec6c919c15f",
    "papermill": {
     "duration": 0.985592,
     "end_time": "2021-03-05T01:06:19.402446",
     "exception": false,
     "start_time": "2021-03-05T01:06:18.416854",
     "status": "completed"
    },
    "tags": []
   },
   "outputs": [
    {
     "name": "stdout",
     "output_type": "stream",
     "text": [
      "Model Performance\n",
      "Average Error: 0.0211 degrees.\n",
      "Accuracy = 0.98%.\n",
      "Exact Accuracy Value: \n"
     ]
    },
    {
     "data": {
      "text/plain": [
       "0.9789473684210527"
      ]
     },
     "execution_count": 49,
     "metadata": {},
     "output_type": "execute_result"
    }
   ],
   "source": [
    "evaluate(rfcRandom, x_test, y_test)"
   ]
  }
 ],
 "metadata": {
  "kernelspec": {
   "display_name": "Python 3",
   "language": "python",
   "name": "python3"
  },
  "language_info": {
   "codemirror_mode": {
    "name": "ipython",
    "version": 3
   },
   "file_extension": ".py",
   "mimetype": "text/x-python",
   "name": "python",
   "nbconvert_exporter": "python",
   "pygments_lexer": "ipython3",
   "version": "3.7.9"
  },
  "papermill": {
   "default_parameters": {},
   "duration": 1709.927944,
   "end_time": "2021-03-05T01:06:20.979720",
   "environment_variables": {},
   "exception": null,
   "input_path": "__notebook__.ipynb",
   "output_path": "__notebook__.ipynb",
   "parameters": {},
   "start_time": "2021-03-05T00:37:51.051776",
   "version": "2.2.2"
  }
 },
 "nbformat": 4,
 "nbformat_minor": 4
}
